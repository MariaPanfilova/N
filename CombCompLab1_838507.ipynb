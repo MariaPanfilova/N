{
  "nbformat": 4,
  "nbformat_minor": 0,
  "metadata": {
    "colab": {
      "provenance": [],
      "authorship_tag": "ABX9TyP7AKIqvV+NAvhFmwEwnbL8",
      "include_colab_link": true
    },
    "kernelspec": {
      "name": "python3",
      "display_name": "Python 3"
    },
    "language_info": {
      "name": "python"
    }
  },
  "cells": [
    {
      "cell_type": "markdown",
      "metadata": {
        "id": "view-in-github",
        "colab_type": "text"
      },
      "source": [
        "<a href=\"https://colab.research.google.com/github/MariaPanfilova/N/blob/master/CombCompLab1_838507.ipynb\" target=\"_parent\"><img src=\"https://colab.research.google.com/assets/colab-badge.svg\" alt=\"Open In Colab\"/></a>"
      ]
    },
    {
      "cell_type": "code",
      "source": [
        "import numpy as np\n",
        "import random"
      ],
      "metadata": {
        "id": "uwbRV6mztLJt"
      },
      "execution_count": 1100,
      "outputs": []
    },
    {
      "cell_type": "markdown",
      "source": [
        "Длины циклов перестановок\n",
        "\n",
        "Реализовать функцию вычисления длин циклов для произвольной целочисленной перестановки.\n",
        "\n",
        "Провести вычислительный эксперимент: сгенерировать N случайных равномерно распределенных перестановок длины n, вычислить среднее и дисперсию длины самого длинного цикла, нормированного на n.\n",
        "\n",
        "Вход: Числа n и N.\n",
        "Результат: 2 числа: среднее и дисперсия."
      ],
      "metadata": {
        "id": "NMXXcZCRrUmT"
      }
    },
    {
      "cell_type": "code",
      "source": [
        "N = 1000                            # Количество перестановок\n",
        "n = 1000                               # Длина перестановок"
      ],
      "metadata": {
        "id": "165hEUu2sPfX"
      },
      "execution_count": 1101,
      "outputs": []
    },
    {
      "cell_type": "code",
      "source": [
        "# Тасование Фишера-Йейтса\n",
        "def FisherYates(X):                      # получаем на вход список чисел от 1 до n\n",
        "  perm = []\n",
        "  for j in range (0, len(X)):\n",
        "    k = random.randint(0, len(X)-1)      # выбираем случайное число (индекс) в диапазоне от 0 до n-1\n",
        "    perm.append(X[k])                    # добавляем его в перестановку\n",
        "    X.pop(k)                             # и вычёркиваем из исходного списка\n",
        "  return(perm)"
      ],
      "metadata": {
        "id": "aoZe99N-C6Nb"
      },
      "execution_count": 1102,
      "outputs": []
    },
    {
      "cell_type": "code",
      "source": [
        "# Генерация перестановок\n",
        "X = ((np.linspace(1,n,n)).astype(int)).tolist()     # создаём множество для перестановок\n",
        "#print(\"X =\", X)\n",
        "Perms = []\n",
        "for i in range (0, N):\n",
        "  Perms.append(FisherYates(X.copy()))\n",
        "  # if i<3 or i>(N-4):\n",
        "  # print(\"перестановка\", i+1,\":\",Perms[i])\n",
        "  # elif i == 4: print(\"...\")"
      ],
      "metadata": {
        "id": "PdXuuMnMrYLC"
      },
      "execution_count": 1103,
      "outputs": []
    },
    {
      "cell_type": "code",
      "source": [
        "# Поиск максимальной длины цикла в перестановке\n",
        "def max_cycle_length(perm):\n",
        "  # print(\"cnt|p_i|p_(i+1)| перестановка\")\n",
        "  # print(\"-----------------------------\")\n",
        "  max_cnt = 0\n",
        "  for j in range(0,len(perm)):\n",
        "    cnt = 1            # счётчик длин циклов\n",
        "    a = perm[j]        # запоминаем текущий элемент перестановки\n",
        "    p1 = perm[a-1]     # и элемент, индексом которого он является\n",
        "    #print('', cnt, '|', a, '|  ', p1, '  |',  perm)\n",
        "    while a != p1:     # и находим длину цикла, в который он входит\n",
        "      #print('', cnt, '|', p1, '|  ', perm[p1-1], '  |',  perm)\n",
        "      p1 = perm[p1-1]\n",
        "      cnt+=1\n",
        "    if cnt > max_cnt:\n",
        "      max_cnt = cnt   # обновляем максимальную, если найденная её превосходит\n",
        "    if max_cnt >= np.ceil(len(perm)/2): break  # и пользуемся тем фактом, что если в цикле больше половины элементов, то лучше уже не будет\n",
        "  #print(\"Максимальная длина цикла:\", max_cnt, '\\n')\n",
        "  return(max_cnt)\n"
      ],
      "metadata": {
        "id": "HW1H57uH-Z9S"
      },
      "execution_count": 1104,
      "outputs": []
    },
    {
      "cell_type": "code",
      "source": [
        "lengths = []\n",
        "for i in range(0,N):\n",
        "  #print(\"\\n Ищем длину максимального цикла \"+str(i+1)+\"-й перестановки:\\n\")\n",
        "  lengths.append(max_cycle_length((Perms[i]).copy()))\n",
        "#print(\"Максимальные длины циклов:\", lengths)"
      ],
      "metadata": {
        "id": "AK-9B9UZ8jzT"
      },
      "execution_count": 1105,
      "outputs": []
    },
    {
      "cell_type": "code",
      "source": [
        "#print(\"Максимальные длины циклов, отнормированные по длине перестановки:\",(np.asarray(lengths)/n).tolist())\n",
        "print(\"Средняя отнормированная длина цикла (матожидание):\", np.round(sum(lengths)/(n*len(lengths)),6))\n",
        "print(\"Дисперсия:\", np.round(np.std(lengths)/n,6))"
      ],
      "metadata": {
        "colab": {
          "base_uri": "https://localhost:8080/"
        },
        "id": "OL45WGM6ft2M",
        "outputId": "04857ca5-6cf4-45f2-d3de-926a95176fc9"
      },
      "execution_count": 1106,
      "outputs": [
        {
          "output_type": "stream",
          "name": "stdout",
          "text": [
            "Средняя отнормированная длина цикла (матожидание): 0.625809\n",
            "Дисперсия: 0.191006\n"
          ]
        }
      ]
    }
  ]
}